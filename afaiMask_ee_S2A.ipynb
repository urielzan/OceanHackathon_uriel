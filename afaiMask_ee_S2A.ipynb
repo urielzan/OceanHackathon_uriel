{
  "nbformat": 4,
  "nbformat_minor": 0,
  "metadata": {
    "colab": {
      "name": "afaiMask_ee_S2A.ipynb",
      "provenance": [],
      "collapsed_sections": [],
      "include_colab_link": true
    },
    "kernelspec": {
      "name": "python3",
      "display_name": "Python 3"
    }
  },
  "cells": [
    {
      "cell_type": "markdown",
      "metadata": {
        "id": "view-in-github",
        "colab_type": "text"
      },
      "source": [
        "<a href=\"https://colab.research.google.com/github/urielzan/OceanHackathon_uriel/blob/master/afaiMask_ee_S2A.ipynb\" target=\"_parent\"><img src=\"https://colab.research.google.com/assets/colab-badge.svg\" alt=\"Open In Colab\"/></a>"
      ]
    },
    {
      "cell_type": "code",
      "metadata": {
        "id": "z6SYuUOAyag7",
        "colab_type": "code",
        "colab": {
          "base_uri": "https://localhost:8080/",
          "height": 755
        },
        "outputId": "bdd2aada-c05a-49ef-ff47-1e2a82f81d80"
      },
      "source": [
        "import folium\n",
        "\n",
        "# Sargazum coordinates\n",
        "#latMin = 21.53\n",
        "#lonMin = -86.63\n",
        "#latMax = 21.58\n",
        "#lonMax = -86.58\n",
        "\n",
        "latMin = 21.6\n",
        "lonMin = -86.3\n",
        "latMax = 21.8\n",
        "lonMax = -86.2\n",
        "\n",
        "dateMin = \"2019-07-05\"\n",
        "dateMax = \"2019-07-07\"\n",
        "\n",
        "cloudCov = 100 \n",
        "\n",
        "coor= [(latMin,lonMin),(latMax,lonMax)]\n",
        "\n",
        "map = folium.Map(\n",
        "    location=[((latMax-latMin)/2)+latMin, ((lonMax-lonMin)/2)+lonMin],\n",
        "    tiles='openstreetmap',\n",
        "    zoom_start=10)\n",
        "folium.LatLngPopup().add_to(map)\n",
        "\n",
        "box = folium.vector_layers.Rectangle(coor,color=\"red\",fill_color=\"red\")\n",
        "\n",
        "\n",
        "map.add_child(box)\n"
      ],
      "execution_count": 132,
      "outputs": [
        {
          "output_type": "execute_result",
          "data": {
            "text/html": [
              "<div style=\"width:100%;\"><div style=\"position:relative;width:100%;height:0;padding-bottom:60%;\"><iframe src=\"data:text/html;charset=utf-8;base64,PCFET0NUWVBFIGh0bWw+CjxoZWFkPiAgICAKICAgIDxtZXRhIGh0dHAtZXF1aXY9ImNvbnRlbnQtdHlwZSIgY29udGVudD0idGV4dC9odG1sOyBjaGFyc2V0PVVURi04IiAvPgogICAgPHNjcmlwdD5MX1BSRUZFUl9DQU5WQVM9ZmFsc2U7IExfTk9fVE9VQ0g9ZmFsc2U7IExfRElTQUJMRV8zRD1mYWxzZTs8L3NjcmlwdD4KICAgIDxzY3JpcHQgc3JjPSJodHRwczovL2Nkbi5qc2RlbGl2ci5uZXQvbnBtL2xlYWZsZXRAMS40LjAvZGlzdC9sZWFmbGV0LmpzIj48L3NjcmlwdD4KICAgIDxzY3JpcHQgc3JjPSJodHRwczovL2NvZGUuanF1ZXJ5LmNvbS9qcXVlcnktMS4xMi40Lm1pbi5qcyI+PC9zY3JpcHQ+CiAgICA8c2NyaXB0IHNyYz0iaHR0cHM6Ly9tYXhjZG4uYm9vdHN0cmFwY2RuLmNvbS9ib290c3RyYXAvMy4yLjAvanMvYm9vdHN0cmFwLm1pbi5qcyI+PC9zY3JpcHQ+CiAgICA8c2NyaXB0IHNyYz0iaHR0cHM6Ly9jZG5qcy5jbG91ZGZsYXJlLmNvbS9hamF4L2xpYnMvTGVhZmxldC5hd2Vzb21lLW1hcmtlcnMvMi4wLjIvbGVhZmxldC5hd2Vzb21lLW1hcmtlcnMuanMiPjwvc2NyaXB0PgogICAgPGxpbmsgcmVsPSJzdHlsZXNoZWV0IiBocmVmPSJodHRwczovL2Nkbi5qc2RlbGl2ci5uZXQvbnBtL2xlYWZsZXRAMS40LjAvZGlzdC9sZWFmbGV0LmNzcyIvPgogICAgPGxpbmsgcmVsPSJzdHlsZXNoZWV0IiBocmVmPSJodHRwczovL21heGNkbi5ib290c3RyYXBjZG4uY29tL2Jvb3RzdHJhcC8zLjIuMC9jc3MvYm9vdHN0cmFwLm1pbi5jc3MiLz4KICAgIDxsaW5rIHJlbD0ic3R5bGVzaGVldCIgaHJlZj0iaHR0cHM6Ly9tYXhjZG4uYm9vdHN0cmFwY2RuLmNvbS9ib290c3RyYXAvMy4yLjAvY3NzL2Jvb3RzdHJhcC10aGVtZS5taW4uY3NzIi8+CiAgICA8bGluayByZWw9InN0eWxlc2hlZXQiIGhyZWY9Imh0dHBzOi8vbWF4Y2RuLmJvb3RzdHJhcGNkbi5jb20vZm9udC1hd2Vzb21lLzQuNi4zL2Nzcy9mb250LWF3ZXNvbWUubWluLmNzcyIvPgogICAgPGxpbmsgcmVsPSJzdHlsZXNoZWV0IiBocmVmPSJodHRwczovL2NkbmpzLmNsb3VkZmxhcmUuY29tL2FqYXgvbGlicy9MZWFmbGV0LmF3ZXNvbWUtbWFya2Vycy8yLjAuMi9sZWFmbGV0LmF3ZXNvbWUtbWFya2Vycy5jc3MiLz4KICAgIDxsaW5rIHJlbD0ic3R5bGVzaGVldCIgaHJlZj0iaHR0cHM6Ly9yYXdjZG4uZ2l0aGFjay5jb20vcHl0aG9uLXZpc3VhbGl6YXRpb24vZm9saXVtL21hc3Rlci9mb2xpdW0vdGVtcGxhdGVzL2xlYWZsZXQuYXdlc29tZS5yb3RhdGUuY3NzIi8+CiAgICA8c3R5bGU+aHRtbCwgYm9keSB7d2lkdGg6IDEwMCU7aGVpZ2h0OiAxMDAlO21hcmdpbjogMDtwYWRkaW5nOiAwO308L3N0eWxlPgogICAgPHN0eWxlPiNtYXAge3Bvc2l0aW9uOmFic29sdXRlO3RvcDowO2JvdHRvbTowO3JpZ2h0OjA7bGVmdDowO308L3N0eWxlPgogICAgCiAgICA8bWV0YSBuYW1lPSJ2aWV3cG9ydCIgY29udGVudD0id2lkdGg9ZGV2aWNlLXdpZHRoLAogICAgICAgIGluaXRpYWwtc2NhbGU9MS4wLCBtYXhpbXVtLXNjYWxlPTEuMCwgdXNlci1zY2FsYWJsZT1ubyIgLz4KICAgIDxzdHlsZT4jbWFwX2Y2NmJmZDk3ZDJlNTRmODdhMzkwNzM5Nzg4ZDY5MDEwIHsKICAgICAgICBwb3NpdGlvbjogcmVsYXRpdmU7CiAgICAgICAgd2lkdGg6IDEwMC4wJTsKICAgICAgICBoZWlnaHQ6IDEwMC4wJTsKICAgICAgICBsZWZ0OiAwLjAlOwogICAgICAgIHRvcDogMC4wJTsKICAgICAgICB9CiAgICA8L3N0eWxlPgo8L2hlYWQ+Cjxib2R5PiAgICAKICAgIAogICAgPGRpdiBjbGFzcz0iZm9saXVtLW1hcCIgaWQ9Im1hcF9mNjZiZmQ5N2QyZTU0Zjg3YTM5MDczOTc4OGQ2OTAxMCIgPjwvZGl2Pgo8L2JvZHk+CjxzY3JpcHQ+ICAgIAogICAgCiAgICAKICAgICAgICB2YXIgYm91bmRzID0gbnVsbDsKICAgIAoKICAgIHZhciBtYXBfZjY2YmZkOTdkMmU1NGY4N2EzOTA3Mzk3ODhkNjkwMTAgPSBMLm1hcCgKICAgICAgICAnbWFwX2Y2NmJmZDk3ZDJlNTRmODdhMzkwNzM5Nzg4ZDY5MDEwJywgewogICAgICAgIGNlbnRlcjogWzIxLjcwMDAwMDAwMDAwMDAwMywgLTg2LjI1XSwKICAgICAgICB6b29tOiAxMCwKICAgICAgICBtYXhCb3VuZHM6IGJvdW5kcywKICAgICAgICBsYXllcnM6IFtdLAogICAgICAgIHdvcmxkQ29weUp1bXA6IGZhbHNlLAogICAgICAgIGNyczogTC5DUlMuRVBTRzM4NTcsCiAgICAgICAgem9vbUNvbnRyb2w6IHRydWUsCiAgICAgICAgfSk7CgoKICAgIAogICAgdmFyIHRpbGVfbGF5ZXJfMmIxNTQ1OTg2YmJmNGI0Mzg3NTU3ZTBkNWZjNTFkN2IgPSBMLnRpbGVMYXllcigKICAgICAgICAnaHR0cHM6Ly97c30udGlsZS5vcGVuc3RyZWV0bWFwLm9yZy97en0ve3h9L3t5fS5wbmcnLAogICAgICAgIHsKICAgICAgICAiYXR0cmlidXRpb24iOiBudWxsLAogICAgICAgICJkZXRlY3RSZXRpbmEiOiBmYWxzZSwKICAgICAgICAibWF4TmF0aXZlWm9vbSI6IDE4LAogICAgICAgICJtYXhab29tIjogMTgsCiAgICAgICAgIm1pblpvb20iOiAwLAogICAgICAgICJub1dyYXAiOiBmYWxzZSwKICAgICAgICAib3BhY2l0eSI6IDEsCiAgICAgICAgInN1YmRvbWFpbnMiOiAiYWJjIiwKICAgICAgICAidG1zIjogZmFsc2UKfSkuYWRkVG8obWFwX2Y2NmJmZDk3ZDJlNTRmODdhMzkwNzM5Nzg4ZDY5MDEwKTsKICAgIAogICAgICAgICAgICAgICAgdmFyIGxhdF9sbmdfcG9wdXBfMzhmZjRhMjliNDQ4NGE1NTlkYjk4MDYwODY5NjYyNGIgPSBMLnBvcHVwKCk7CiAgICAgICAgICAgICAgICBmdW5jdGlvbiBsYXRMbmdQb3AoZSkgewogICAgICAgICAgICAgICAgICAgIGxhdF9sbmdfcG9wdXBfMzhmZjRhMjliNDQ4NGE1NTlkYjk4MDYwODY5NjYyNGIKICAgICAgICAgICAgICAgICAgICAgICAgLnNldExhdExuZyhlLmxhdGxuZykKICAgICAgICAgICAgICAgICAgICAgICAgLnNldENvbnRlbnQoIkxhdGl0dWRlOiAiICsgZS5sYXRsbmcubGF0LnRvRml4ZWQoNCkgKwogICAgICAgICAgICAgICAgICAgICAgICAgICAgICAgICAgICAiPGJyPkxvbmdpdHVkZTogIiArIGUubGF0bG5nLmxuZy50b0ZpeGVkKDQpKQogICAgICAgICAgICAgICAgICAgICAgICAub3Blbk9uKG1hcF9mNjZiZmQ5N2QyZTU0Zjg3YTM5MDczOTc4OGQ2OTAxMCk7CiAgICAgICAgICAgICAgICAgICAgfQogICAgICAgICAgICAgICAgbWFwX2Y2NmJmZDk3ZDJlNTRmODdhMzkwNzM5Nzg4ZDY5MDEwLm9uKCdjbGljaycsIGxhdExuZ1BvcCk7CiAgICAgICAgICAgIAogICAgCgogICAgICAgICAgICB2YXIgcmVjdGFuZ2xlX2Q5NDhmOTc2ZWRjOTRjMjg4OTdiNzI2MGIxYTE5NDg1ID0gTC5yZWN0YW5nbGUoCiAgICAgICAgICAgICAgICBbWzIxLjYsIC04Ni4zXSwgWzIxLjgsIC04Ni4yXV0sCiAgICAgICAgICAgICAgICB7CiAgImJ1YmJsaW5nTW91c2VFdmVudHMiOiB0cnVlLAogICJjb2xvciI6ICJyZWQiLAogICJkYXNoQXJyYXkiOiBudWxsLAogICJkYXNoT2Zmc2V0IjogbnVsbCwKICAiZmlsbCI6IHRydWUsCiAgImZpbGxDb2xvciI6ICJyZWQiLAogICJmaWxsT3BhY2l0eSI6IDAuMiwKICAiZmlsbFJ1bGUiOiAiZXZlbm9kZCIsCiAgImxpbmVDYXAiOiAicm91bmQiLAogICJsaW5lSm9pbiI6ICJyb3VuZCIsCiAgIm5vQ2xpcCI6IGZhbHNlLAogICJvcGFjaXR5IjogMS4wLAogICJzbW9vdGhGYWN0b3IiOiAxLjAsCiAgInN0cm9rZSI6IHRydWUsCiAgIndlaWdodCI6IDMKfQogICAgICAgICAgICAgICAgKQogICAgICAgICAgICAgICAgLmFkZFRvKG1hcF9mNjZiZmQ5N2QyZTU0Zjg3YTM5MDczOTc4OGQ2OTAxMCk7CiAgICAgICAgICAgIAo8L3NjcmlwdD4=\" style=\"position:absolute;width:100%;height:100%;left:0;top:0;border:none !important;\" allowfullscreen webkitallowfullscreen mozallowfullscreen></iframe></div></div>"
            ],
            "text/plain": [
              "<folium.folium.Map at 0x7fa7e34215c0>"
            ]
          },
          "metadata": {
            "tags": []
          },
          "execution_count": 132
        }
      ]
    },
    {
      "cell_type": "code",
      "metadata": {
        "id": "UYz7N6sKPSzq",
        "colab_type": "code",
        "colab": {
          "base_uri": "https://localhost:8080/",
          "height": 1000
        },
        "outputId": "8b92d877-5013-4f79-f745-edd5b864fa95"
      },
      "source": [
        "\n",
        "#!/usr/bin/env python3\n",
        "# -*- coding: utf-8 -*-\n",
        "\"\"\"\n",
        "Created on Fri Nov 15 11:44:56 2019\n",
        "\n",
        "@author: urielm\n",
        "\"\"\"\n",
        "\n",
        "import ee\n",
        "import numpy as np\n",
        "from osgeo import gdal\n",
        "from osgeo import osr\n",
        "#import time\n",
        "from pyproj import Proj,transform\n",
        " \n",
        "# code of google earth\n",
        "ee.Authenticate()\n",
        "\n",
        "# init the ee object\n",
        "ee.Initialize()\n",
        "\n",
        "\n",
        " \n",
        "# Define the roi\n",
        "\n",
        "area = ee.Geometry.Polygon([[lonMin,latMin],\\\n",
        "                            [lonMax,latMin],\\\n",
        "                            [lonMax,latMax],\\\n",
        "                            [lonMin,latMax],\\\n",
        "                            [lonMin,latMin]])\n",
        " \n",
        " \n",
        "# define the image\n",
        "collection = ee.ImageCollection(\"COPERNICUS/S2_SR\").filterBounds(area)\\\n",
        "                                      .filterDate(dateMin,dateMax)\\\n",
        "                                      .filterMetadata(\"CLOUDY_PIXEL_PERCENTAGE\",\"less_than\",cloudCov)\\\n",
        "                                      .select(['B8','B4','B11'])\n",
        " \n",
        "print(\" number of image: \",collection.size().getInfo())\n",
        " \n",
        "# perform any calculation on the image collection here\n",
        "def anyFunction(img):\n",
        "    afai = img.expression(\n",
        "    'NIR-(RED+((859-645)/(1240-645))*(SWIR-RED))', {\n",
        "      'NIR': img.select('B8'),\n",
        "      'RED': img.select('B4'),\n",
        "      'SWIR': img.select('B11')\n",
        "})\n",
        "    return afai\n",
        " \n",
        "# export the latitude, longitude and array\n",
        "def LatLonImg(img):\n",
        "    img = img.addBands(ee.Image.pixelLonLat())\n",
        " \n",
        "    img = img.reduceRegion(reducer=ee.Reducer.toList(),\\\n",
        "                                        geometry=area,\\\n",
        "                                        maxPixels=1e13,\\\n",
        "                                        scale=10);\n",
        " \n",
        "    data = np.array((ee.Array(img.get(\"result\")).getInfo()))\n",
        "    lats = np.array((ee.Array(img.get(\"latitude\")).getInfo()))\n",
        "    lons = np.array((ee.Array(img.get(\"longitude\")).getInfo()))\n",
        "    return lats, lons, data\n",
        " \n",
        "# covert the lat, lon and array into an image\n",
        "def toImage(lats,lons,data):\n",
        " \n",
        "    # get the unique coordinates\n",
        "    uniqueLats = np.unique(lats)\n",
        "    uniqueLons = np.unique(lons)\n",
        " \n",
        "    # get number of columns and rows from coordinates\n",
        "    ncols = len(uniqueLons)\n",
        "    nrows = len(uniqueLats)\n",
        " \n",
        "    # determine pixelsizes\n",
        "    ys = uniqueLats[1] - uniqueLats[0]\n",
        "    xs = uniqueLons[1] - uniqueLons[0]\n",
        " \n",
        "    # create an array with dimensions of image\n",
        "    arr = np.zeros([nrows, ncols], np.float32) #-9999\n",
        " \n",
        "    # fill the array with values\n",
        "    counter =0\n",
        "    for y in range(0,len(arr),1):\n",
        "        for x in range(0,len(arr[0]),1):\n",
        "            if lats[counter] == uniqueLats[y] and lons[counter] == uniqueLons[x] and counter < len(lats)-1:\n",
        "                counter+=1\n",
        "                arr[len(uniqueLats)-1-y,x] = data[counter] # we start from lower left corner\n",
        "    return arr\n",
        " \n",
        "    \n",
        "def creaTiff(data, name, xmin, ymin, xmax, ymax, nx, ny):\n",
        "    \n",
        "    # Parametros para la creacion del TIFF por medio de GDAL\n",
        "    xres = (xmax - xmin) / float(ny)\n",
        "    yres = (ymax - ymin) / float(nx)\n",
        "    geotransform = (xmin, xres, 0, ymax, 0, -yres)\n",
        "    dst_ds = gdal.GetDriverByName('GTiff').Create(name+'.tif', ny, nx, 1, gdal.GDT_Float32)\n",
        "\n",
        "    # Aplica la geotransformacion y la proyección\n",
        "    dst_ds.SetGeoTransform(geotransform)    # Coordenadas especificas\n",
        "    srs = osr.SpatialReference()            # Establece el ensamble\n",
        "    srs.ImportFromProj4(\"+proj=utm +zone=16 +datum=WGS84 +units=m +no_defs\") # Proeyeccion Goes16\n",
        "    dst_ds.SetProjection(srs.ExportToWkt()) # Exporta el sistema de coordenadas\n",
        "    dst_ds.GetRasterBand(1).WriteArray(data)   # Escribe la banda al raster\n",
        "    dst_ds.FlushCache()                     # Escribe en el disco\n",
        "\n",
        "dst_ds = None\n",
        "\n",
        "\n",
        "# map over the image collection\n",
        "myCollection  = collection.map(anyFunction)\n",
        " \n",
        "# get the median\n",
        "result = ee.Image(myCollection.median()).rename(['result'])\n",
        " \n",
        "# get the lon, lat and result as 1d array\n",
        "lat, lon, data = LatLonImg(result)\n",
        " \n",
        "# 1d to 2d array\n",
        "image  = toImage(lat,lon,data)\n",
        " \n",
        "# scale factor and mask\n",
        "image = image*0.001\n",
        "image_mask = np.where(image <= 0.1,0,1)\n",
        "\n",
        "# Georreferency image\n",
        "p1 = Proj('+proj=longlat +ellps=WGS84 +datum=WGS84 +no_defs')\n",
        "p2 = Proj('+proj=utm +zone=16 +datum=WGS84 +units=m +no_defs')\n",
        "xmin,ymin= -86.63,21.53\n",
        "xmax,ymax = -86.58,21.58\n",
        "xmin_utm,ymin_utm = transform(p1,p2,xmin,ymin)\n",
        "xmax_utm,ymax_utm = transform(p1,p2,xmax,ymax)\n",
        "\n",
        "# create Gtiff\n",
        "creaTiff(image_mask,'afai_mask',xmin_utm,ymin_utm,xmax_utm,ymax_utm,image.shape[0],image.shape[1])\n",
        "\n",
        "# in case you want to plot the image\n",
        "import matplotlib.pyplot as plt\n",
        "plt.figure(figsize=(10,10))\n",
        "plt.imshow(image)\n",
        "plt.show()\n",
        "plt.figure(figsize=(10,10))\n",
        "plt.imshow(image_mask,cmap='gray')\n",
        "plt.show()"
      ],
      "execution_count": 133,
      "outputs": [
        {
          "output_type": "stream",
          "text": [
            "To authorize access needed by Earth Engine, open the following URL in a web browser and follow the instructions. If the web browser does not start automatically, please manually browse the URL below.\n",
            "\n",
            "    https://accounts.google.com/o/oauth2/auth?client_id=517222506229-vsmmajv00ul0bs7p89v5m89qs8eb9359.apps.googleusercontent.com&scope=https%3A%2F%2Fwww.googleapis.com%2Fauth%2Fearthengine+https%3A%2F%2Fwww.googleapis.com%2Fauth%2Fdevstorage.full_control&redirect_uri=urn%3Aietf%3Awg%3Aoauth%3A2.0%3Aoob&response_type=code\n",
            "\n",
            "The authorization workflow will generate a code, which you should paste in the box below. \n",
            "Enter verification code: 4/tQHvvYGWQFIzmwW-FtAyJ6OXkekYe5sVjljkDVVxehm2CgNOTX0ZOPk\n",
            "\n",
            "Successfully saved authorization token.\n",
            " number of image:  2\n"
          ],
          "name": "stdout"
        },
        {
          "output_type": "display_data",
          "data": {
            "image/png": "[encoded data removed]",
            "text/plain": [
              "<Figure size 720x720 with 1 Axes>"
            ]
          },
          "metadata": {
            "tags": []
          }
        },
        {
          "output_type": "display_data",
          "data": {
            "image/png": "[encoded data removed]",
            "text/plain": [
              "<Figure size 720x720 with 1 Axes>"
            ]
          },
          "metadata": {
            "tags": []
          }
        }
      ]
    },
    {
      "cell_type": "code",
      "metadata": {
        "id": "9jRHwWyDOjTB",
        "colab_type": "code",
        "colab": {}
      },
      "source": [
        ""
      ],
      "execution_count": 0,
      "outputs": []
    },
    {
      "cell_type": "code",
      "metadata": {
        "id": "wuzieknaOoaj",
        "colab_type": "code",
        "colab": {}
      },
      "source": [
        ""
      ],
      "execution_count": 0,
      "outputs": []
    },
    {
      "cell_type": "code",
      "metadata": {
        "id": "8oiSFMpiOpEV",
        "colab_type": "code",
        "colab": {}
      },
      "source": [
        ""
      ],
      "execution_count": 0,
      "outputs": []
    }
  ]
}